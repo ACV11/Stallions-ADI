{
 "cells": [
  {
   "cell_type": "code",
   "execution_count": 7,
   "metadata": {},
   "outputs": [
    {
     "data": {
      "text/plain": [
       "0          7.0\n",
       "1          7.0\n",
       "2         21.0\n",
       "3          7.0\n",
       "4         22.0\n",
       "5          7.0\n",
       "6         23.0\n",
       "7         22.0\n",
       "8          2.0\n",
       "9          2.0\n",
       "10         1.0\n",
       "11         6.0\n",
       "12         7.0\n",
       "13        23.0\n",
       "14        23.0\n",
       "15         3.0\n",
       "16        23.0\n",
       "17         6.0\n",
       "18         6.0\n",
       "19        26.0\n",
       "20         7.0\n",
       "21        23.0\n",
       "22         6.0\n",
       "23        25.0\n",
       "24         7.0\n",
       "25        23.0\n",
       "26         5.0\n",
       "27         5.0\n",
       "28         6.0\n",
       "29      2364.0\n",
       "         ...  \n",
       "4517      89.0\n",
       "4518      89.0\n",
       "4519      89.0\n",
       "4520      61.0\n",
       "4521      59.0\n",
       "4522      89.0\n",
       "4523     120.0\n",
       "4524     120.0\n",
       "4525     120.0\n",
       "4526     120.0\n",
       "4527      30.0\n",
       "4528      30.0\n",
       "4529      30.0\n",
       "4530      30.0\n",
       "4531      30.0\n",
       "4532      30.0\n",
       "4533      61.0\n",
       "4534      30.0\n",
       "4535      61.0\n",
       "4536      61.0\n",
       "4537      61.0\n",
       "4538      61.0\n",
       "4539      30.0\n",
       "4540      30.0\n",
       "4541      89.0\n",
       "4542      89.0\n",
       "4543      89.0\n",
       "4544     120.0\n",
       "4545     120.0\n",
       "4546      65.0\n",
       "Name: duration, Length: 4547, dtype: float64"
      ]
     },
     "execution_count": 7,
     "metadata": {},
     "output_type": "execute_result"
    }
   ],
   "source": [
    "from scipy.stats import norm\n",
    "import math\n",
    "from math import sqrt\n",
    "import pandas as pd\n",
    "from statistics import mean\n",
    "import datetime as dt\n",
    "import numpy \n",
    "\n",
    "df = pd.read_csv('After_Cleaning.csv')\n",
    "\n",
    "#Finding the no of days for which the video was viral\n",
    "df.loc[:, 'publish_date'] = pd.to_datetime(df.loc[:, 'publish_date'])\n",
    "df.loc[:, 'last_seen_date'] = pd.to_datetime(df.loc[:, 'last_seen_date'])\n",
    "df['duration'] = df['last_seen_date'] - df['publish_date']\n",
    "df['duration'] = df['duration'].abs()\n",
    "df['duration'] = df['duration'].astype('timedelta64[D]')\n",
    "df.loc[: , \"duration\"]\n",
    "#df.loc[df['duration'].idxmax()]"
   ]
  },
  {
   "cell_type": "code",
   "execution_count": 13,
   "metadata": {},
   "outputs": [
    {
     "name": "stdout",
     "output_type": "stream",
     "text": [
      "107\n"
     ]
    }
   ],
   "source": [
    "#Finding mean of the viral time \n",
    "#Population mean is:\n",
    "a = df.loc[:,\"duration\"].mean()\n",
    "print(math.ceil(a))"
   ]
  },
  {
   "cell_type": "code",
   "execution_count": 11,
   "metadata": {},
   "outputs": [
    {
     "name": "stdout",
     "output_type": "stream",
     "text": [
      "251\n"
     ]
    }
   ],
   "source": [
    "#Finding standard deviation of the viral time duration column\n",
    "#Population std dev is:\n",
    "b = df.loc[:,\"duration\"].std()\n",
    "print(math.ceil(b))"
   ]
  },
  {
   "cell_type": "code",
   "execution_count": 10,
   "metadata": {},
   "outputs": [],
   "source": [
    "#Thus we have a population of size 4547, with a mean of 107 days and a standard deviation of 258 days. \n",
    "#This data tells us about the amount of time a video went viral.\n",
    "#This quantity was found by subtracting the date of publication and the date on which the video stopped trending as are indicated in their respective columns.\n",
    "#Drawing a random sample of 100 from this population a hypothesis test will now be performed to analyse how if majority of these videos are viral for a longer time or not.\n",
    "#For this we will consider 105 days as our benchmark."
   ]
  },
  {
   "cell_type": "code",
   "execution_count": 14,
   "metadata": {},
   "outputs": [
    {
     "name": "stdout",
     "output_type": "stream",
     "text": [
      "135\n"
     ]
    }
   ],
   "source": [
    "#Drawing a random sample from 'viral_time' column and calculating sample mean:\n",
    "\n",
    "#numpy.random.choice((df.loc[:, 'viral_time']),100)   \n",
    "arr = []\n",
    "for index,value in df['duration'].iteritems():\n",
    "        arr.append(value)   \n",
    "index = numpy.random.choice(arr,100)\n",
    "#for i in index:\n",
    "    #print(i)\n",
    "sample_mean = math.ceil(numpy.mean(index))\n",
    "print(sample_mean)\n"
   ]
  },
  {
   "cell_type": "code",
   "execution_count": 115,
   "metadata": {},
   "outputs": [],
   "source": [
    "#The null hypothesis is: A video is not viewed after 105 days from date of publication.\n",
    "#    H0 : μ <= 105\n",
    "\n",
    "#The alternate hypothesis is: A video is viewed even after 105 days from date of publication.\n",
    "#    H1 : μ > 105\n",
    "\n",
    "#Thus the sample mean becomes 135 and our sample size is 100. The sample std dev is population std dev divided by sqrt of sample size."
   ]
  },
  {
   "cell_type": "code",
   "execution_count": 15,
   "metadata": {},
   "outputs": [
    {
     "name": "stdout",
     "output_type": "stream",
     "text": [
      "H0 : μ <=105\n",
      "H1 : μ >105\n",
      "The value of alpha is : 0.05 \n",
      "\n",
      "Actual z value : 1.9599639845400545\n",
      "Hypothesis z value : -1.1155378486055776 \n",
      "\n",
      "Failed to reject null hypothesis.\n",
      "Hence it is plausible that a given video is not viewed after 105 days from date of publication.\n"
     ]
    }
   ],
   "source": [
    "def two_sided_hypo(sample_mean, pop_mean, std_dev, sample_size, alpha):\n",
    "    actual_z = abs(norm.ppf(alpha/2))\n",
    "    hypo_z = (pop_mean - sample_mean) / (std_dev/sqrt(sample_size))\n",
    "    print('Actual z value :', actual_z)\n",
    "    print('Hypothesis z value :', hypo_z, '\\n')\n",
    "    if hypo_z >= actual_z or hypo_z <= -(actual_z):\n",
    "        return True\n",
    "    else:\n",
    "        return False\n",
    "    \n",
    "\n",
    "alpha = 0.05\n",
    "pop_mean = 107\n",
    "sample_size =  100\n",
    "std_dev = 251\n",
    "sample_mean = 135\n",
    "\n",
    "print('H0 : μ <=105')\n",
    "print('H1 : μ >105')\n",
    "print('The value of alpha is :', alpha, '\\n')\n",
    "\n",
    "reject = two_sided_hypo(sample_mean, pop_mean, std_dev, sample_size, alpha)\n",
    "if reject:\n",
    "    print('Null hypothesis rejected.')\n",
    "    print('Hence videos are viewed even after 105 days from date of publication.')\n",
    "else:\n",
    "    print('Failed to reject null hypothesis.')\n",
    "    print('Hence it is plausible that a given video is not viewed after 105 days from date of publication.')\n"
   ]
  }
 ],
 "metadata": {
  "kernelspec": {
   "display_name": "Python 3",
   "language": "python",
   "name": "python3"
  },
  "language_info": {
   "codemirror_mode": {
    "name": "ipython",
    "version": 3
   },
   "file_extension": ".py",
   "mimetype": "text/x-python",
   "name": "python",
   "nbconvert_exporter": "python",
   "pygments_lexer": "ipython3",
   "version": "3.7.0"
  }
 },
 "nbformat": 4,
 "nbformat_minor": 2
}
